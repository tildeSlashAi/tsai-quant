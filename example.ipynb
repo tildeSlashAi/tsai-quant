{
 "metadata": {
  "language_info": {
   "codemirror_mode": {
    "name": "ipython",
    "version": 3
   },
   "file_extension": ".py",
   "mimetype": "text/x-python",
   "name": "python",
   "nbconvert_exporter": "python",
   "pygments_lexer": "ipython3",
   "version": "3.8.2"
  },
  "orig_nbformat": 2,
  "kernelspec": {
   "name": "python382jvsc74a57bd0f39564f8f72e6b45d77d286ed2c8b3e008840067478a4fa0cb30adcfef204200",
   "display_name": "Python 3.8.2 64-bit ('.venv': venv)"
  },
  "metadata": {
   "interpreter": {
    "hash": "f39564f8f72e6b45d77d286ed2c8b3e008840067478a4fa0cb30adcfef204200"
   }
  }
 },
 "nbformat": 4,
 "nbformat_minor": 2,
 "cells": [
  {
   "source": [
    "import tsai_quant.data as qd\n",
    "\n",
    "\n",
    "ticker = qd.Ticker('AAPL')\n",
    "aapl = qd.DailyPrices(ticker)\n",
    "\n",
    "\n"
   ],
   "cell_type": "code",
   "metadata": {},
   "execution_count": 6,
   "outputs": [
    {
     "output_type": "execute_result",
     "data": {
      "text/plain": [
       "'AAPL'"
      ]
     },
     "metadata": {},
     "execution_count": 6
    }
   ]
  },
  {
   "cell_type": "code",
   "execution_count": null,
   "metadata": {},
   "outputs": [],
   "source": []
  }
 ]
}