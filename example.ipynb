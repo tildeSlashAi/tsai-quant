{
 "metadata": {
  "language_info": {
   "codemirror_mode": {
    "name": "ipython",
    "version": 3
   },
   "file_extension": ".py",
   "mimetype": "text/x-python",
   "name": "python",
   "nbconvert_exporter": "python",
   "pygments_lexer": "ipython3",
   "version": "3.8.2"
  },
  "orig_nbformat": 2,
  "kernelspec": {
   "name": "python382jvsc74a57bd0f39564f8f72e6b45d77d286ed2c8b3e008840067478a4fa0cb30adcfef204200",
   "display_name": "Python 3.8.2 64-bit ('.venv': venv)"
  },
  "metadata": {
   "interpreter": {
    "hash": "f39564f8f72e6b45d77d286ed2c8b3e008840067478a4fa0cb30adcfef204200"
   }
  }
 },
 "nbformat": 4,
 "nbformat_minor": 2,
 "cells": [
  {
   "source": [
    "import tsai_quant.data as qdata\n",
    "import datetime as dt"
   ],
   "cell_type": "code",
   "metadata": {},
   "execution_count": 4,
   "outputs": []
  },
  {
   "cell_type": "code",
   "execution_count": 5,
   "metadata": {},
   "outputs": [
    {
     "output_type": "execute_result",
     "data": {
      "text/plain": [
       "'yahoo'"
      ]
     },
     "metadata": {},
     "execution_count": 5
    }
   ],
   "source": [
    "qdata.SourceManager._settings"
   ]
  },
  {
   "cell_type": "code",
   "execution_count": 6,
   "metadata": {},
   "outputs": [
    {
     "output_type": "stream",
     "name": "stdout",
     "text": [
      "                  High         Low        Open       Close       Volume  \\\nDate                                                                      \n2020-01-02   75.150002   73.797501   74.059998   75.087502  135480400.0   \n2020-01-03   75.144997   74.125000   74.287498   74.357498  146322800.0   \n2020-01-06   74.989998   73.187500   73.447502   74.949997  118387200.0   \n2020-01-07   75.224998   74.370003   74.959999   74.597504  108872000.0   \n2020-01-08   76.110001   74.290001   74.290001   75.797501  132079200.0   \n...                ...         ...         ...         ...          ...   \n2020-12-24  133.460007  131.100006  131.320007  131.970001   54930100.0   \n2020-12-28  137.339996  133.509995  133.990005  136.690002  124486200.0   \n2020-12-29  138.789993  134.339996  138.050003  134.869995  121047300.0   \n2020-12-30  135.990005  133.399994  135.580002  133.720001   96452100.0   \n2020-12-31  134.740005  131.720001  134.080002  132.690002   99116600.0   \n\n             Adj Close  \nDate                    \n2020-01-02   74.333511  \n2020-01-03   73.610840  \n2020-01-06   74.197395  \n2020-01-07   73.848442  \n2020-01-08   75.036385  \n...                ...  \n2020-12-24  131.773087  \n2020-12-28  136.486053  \n2020-12-29  134.668762  \n2020-12-30  133.520477  \n2020-12-31  132.492020  \n\n[253 rows x 6 columns]\n"
     ]
    }
   ],
   "source": [
    "start = dt.datetime(2020,1,1)\n",
    "end = dt.datetime(2021,1,1)\n",
    "\n",
    "ticker = qdata.Ticker('AAPL')\n",
    "stock = qdata.DailyPrices(ticker, start, end)\n",
    "\n",
    "print(stock)"
   ]
  },
  {
   "cell_type": "code",
   "execution_count": null,
   "metadata": {},
   "outputs": [],
   "source": []
  }
 ]
}